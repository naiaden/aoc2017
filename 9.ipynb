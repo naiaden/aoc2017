{
 "cells": [
  {
   "cell_type": "code",
   "execution_count": 175,
   "metadata": {},
   "outputs": [],
   "source": [
    "BEG_GROUP = '{'\n",
    "END_GROUP = '}'\n",
    "BEG_GARBAGE = '<'\n",
    "END_GARBAGE = '>'\n",
    "CANCEL = '!'\n",
    "COMMA = ','\n",
    "\n",
    "class Tree:\n",
    "    def __init__(self, stream, debug=False):\n",
    "        self.tree = self.parse_stream(stream, debug)\n",
    "        self.trees = []\n",
    "\n",
    "    def parse_stream(self, stream, debug=False):\n",
    "        prev_cancel = False\n",
    "        is_garbage = False\n",
    "        \n",
    "        self.groups = 0\n",
    "        self.score = 0\n",
    "        depth = 0\n",
    "        self.garbage = 0\n",
    "        \n",
    "        for c in stream:\n",
    "            if debug:\n",
    "                print(f\"CANCEL:{prev_cancel}\\tGARBAGE:{is_garbage}-{self.garbage}\\tGROUPID:{self.groups}\\tDEPTH:{depth}\\t{c}\")\n",
    "            \n",
    "            if c == CANCEL:\n",
    "                if prev_cancel:\n",
    "                    prev_cancel = False\n",
    "                else:\n",
    "                    prev_cancel = True\n",
    "\n",
    "            elif c == BEG_GARBAGE and not prev_cancel and not is_garbage:\n",
    "                is_garbage = True\n",
    "            \n",
    "            elif c == END_GARBAGE and not prev_cancel:\n",
    "                is_garbage = False\n",
    "            \n",
    "            elif c == BEG_GROUP and not prev_cancel and not is_garbage:\n",
    "                self.groups += 1\n",
    "                depth += 1\n",
    "                self.score += depth\n",
    "                \n",
    "            elif c == END_GROUP and not prev_cancel and not is_garbage:\n",
    "                depth -= 1\n",
    "            \n",
    "            elif c == COMMA and not prev_cancel:\n",
    "                if is_garbage:\n",
    "                    self.garbage += 1\n",
    "                \n",
    "            else:\n",
    "                \n",
    "                if is_garbage and not prev_cancel:\n",
    "                    self.garbage += 1\n",
    "                    \n",
    "                prev_cancel = False    "
   ]
  },
  {
   "cell_type": "code",
   "execution_count": 176,
   "metadata": {},
   "outputs": [
    {
     "name": "stdout",
     "output_type": "stream",
     "text": [
      "CANCEL:False\tGARBAGE:False-0\tGROUPID:0\tDEPTH:0\t{\n",
      "CANCEL:False\tGARBAGE:False-0\tGROUPID:1\tDEPTH:1\t<\n",
      "CANCEL:False\tGARBAGE:True-0\tGROUPID:1\tDEPTH:1\t{\n",
      "CANCEL:False\tGARBAGE:True-1\tGROUPID:1\tDEPTH:1\t!\n",
      "CANCEL:True\tGARBAGE:True-1\tGROUPID:1\tDEPTH:1\t>\n",
      "CANCEL:False\tGARBAGE:True-1\tGROUPID:1\tDEPTH:1\t}\n",
      "CANCEL:False\tGARBAGE:True-2\tGROUPID:1\tDEPTH:1\t>\n",
      "CANCEL:False\tGARBAGE:False-2\tGROUPID:1\tDEPTH:1\t}\n"
     ]
    },
    {
     "data": {
      "text/plain": [
       "2"
      ]
     },
     "execution_count": 176,
     "metadata": {},
     "output_type": "execute_result"
    }
   ],
   "source": [
    "Tree(\"{<{!>}>}\", debug=True).garbage"
   ]
  },
  {
   "cell_type": "code",
   "execution_count": 139,
   "metadata": {},
   "outputs": [
    {
     "name": "stderr",
     "output_type": "stream",
     "text": [
      "test_1 (__main__.TestPartOne) ... ok\n",
      "test_2 (__main__.TestPartOne) ... ok\n",
      "test_3 (__main__.TestPartOne) ... ok\n",
      "test_4 (__main__.TestPartOne) ... ok\n",
      "test_5 (__main__.TestPartOne) ... ok\n",
      "test_6 (__main__.TestPartOne) ... ok\n",
      "test_7 (__main__.TestPartOne) ... "
     ]
    },
    {
     "name": "stdout",
     "output_type": "stream",
     "text": [
      "CANCEL:False\tGARBAGE:False\tGROUPID:0\tDEPTH:0\t{\n",
      "CANCEL:False\tGARBAGE:False\tGROUPID:1\tDEPTH:1\t}\n",
      "CANCEL:False\tGARBAGE:False\tGROUPID:0\tDEPTH:0\t{\n",
      "CANCEL:False\tGARBAGE:False\tGROUPID:1\tDEPTH:1\t{\n",
      "CANCEL:False\tGARBAGE:False\tGROUPID:2\tDEPTH:2\t{\n",
      "CANCEL:False\tGARBAGE:False\tGROUPID:3\tDEPTH:3\t}\n",
      "CANCEL:False\tGARBAGE:False\tGROUPID:3\tDEPTH:2\t}\n",
      "CANCEL:False\tGARBAGE:False\tGROUPID:3\tDEPTH:1\t}\n",
      "CANCEL:False\tGARBAGE:False\tGROUPID:0\tDEPTH:0\t{\n",
      "CANCEL:False\tGARBAGE:False\tGROUPID:1\tDEPTH:1\t{\n",
      "CANCEL:False\tGARBAGE:False\tGROUPID:2\tDEPTH:2\t}\n",
      "CANCEL:False\tGARBAGE:False\tGROUPID:2\tDEPTH:1\t,\n",
      "CANCEL:False\tGARBAGE:False\tGROUPID:2\tDEPTH:1\t{\n",
      "CANCEL:False\tGARBAGE:False\tGROUPID:3\tDEPTH:2\t}\n",
      "CANCEL:False\tGARBAGE:False\tGROUPID:3\tDEPTH:1\t}\n",
      "CANCEL:False\tGARBAGE:False\tGROUPID:0\tDEPTH:0\t{\n",
      "CANCEL:False\tGARBAGE:False\tGROUPID:1\tDEPTH:1\t{\n",
      "CANCEL:False\tGARBAGE:False\tGROUPID:2\tDEPTH:2\t{\n",
      "CANCEL:False\tGARBAGE:False\tGROUPID:3\tDEPTH:3\t}\n",
      "CANCEL:False\tGARBAGE:False\tGROUPID:3\tDEPTH:2\t,\n",
      "CANCEL:False\tGARBAGE:False\tGROUPID:3\tDEPTH:2\t{\n",
      "CANCEL:False\tGARBAGE:False\tGROUPID:4\tDEPTH:3\t}\n",
      "CANCEL:False\tGARBAGE:False\tGROUPID:4\tDEPTH:2\t,\n",
      "CANCEL:False\tGARBAGE:False\tGROUPID:4\tDEPTH:2\t{\n",
      "CANCEL:False\tGARBAGE:False\tGROUPID:5\tDEPTH:3\t{\n",
      "CANCEL:False\tGARBAGE:False\tGROUPID:6\tDEPTH:4\t}\n",
      "CANCEL:False\tGARBAGE:False\tGROUPID:6\tDEPTH:3\t}\n",
      "CANCEL:False\tGARBAGE:False\tGROUPID:6\tDEPTH:2\t}\n",
      "CANCEL:False\tGARBAGE:False\tGROUPID:6\tDEPTH:1\t}\n",
      "CANCEL:False\tGARBAGE:False\tGROUPID:0\tDEPTH:0\t{\n",
      "CANCEL:False\tGARBAGE:False\tGROUPID:1\tDEPTH:1\t<\n",
      "CANCEL:False\tGARBAGE:True\tGROUPID:1\tDEPTH:1\ta\n",
      "CANCEL:False\tGARBAGE:True\tGROUPID:1\tDEPTH:1\t>\n",
      "CANCEL:False\tGARBAGE:False\tGROUPID:1\tDEPTH:1\t,\n",
      "CANCEL:False\tGARBAGE:False\tGROUPID:1\tDEPTH:1\t<\n",
      "CANCEL:False\tGARBAGE:True\tGROUPID:1\tDEPTH:1\ta\n",
      "CANCEL:False\tGARBAGE:True\tGROUPID:1\tDEPTH:1\t>\n",
      "CANCEL:False\tGARBAGE:False\tGROUPID:1\tDEPTH:1\t,\n",
      "CANCEL:False\tGARBAGE:False\tGROUPID:1\tDEPTH:1\t<\n",
      "CANCEL:False\tGARBAGE:True\tGROUPID:1\tDEPTH:1\ta\n",
      "CANCEL:False\tGARBAGE:True\tGROUPID:1\tDEPTH:1\t>\n",
      "CANCEL:False\tGARBAGE:False\tGROUPID:1\tDEPTH:1\t,\n",
      "CANCEL:False\tGARBAGE:False\tGROUPID:1\tDEPTH:1\t<\n",
      "CANCEL:False\tGARBAGE:True\tGROUPID:1\tDEPTH:1\ta\n",
      "CANCEL:False\tGARBAGE:True\tGROUPID:1\tDEPTH:1\t>\n",
      "CANCEL:False\tGARBAGE:False\tGROUPID:1\tDEPTH:1\t}\n",
      "CANCEL:False\tGARBAGE:False\tGROUPID:0\tDEPTH:0\t{\n",
      "CANCEL:False\tGARBAGE:False\tGROUPID:1\tDEPTH:1\t{\n",
      "CANCEL:False\tGARBAGE:False\tGROUPID:2\tDEPTH:2\t<\n",
      "CANCEL:False\tGARBAGE:True\tGROUPID:2\tDEPTH:2\t!\n",
      "CANCEL:True\tGARBAGE:True\tGROUPID:2\tDEPTH:2\t!\n",
      "CANCEL:False\tGARBAGE:True\tGROUPID:2\tDEPTH:2\t>\n",
      "CANCEL:False\tGARBAGE:False\tGROUPID:2\tDEPTH:2\t}\n",
      "CANCEL:False\tGARBAGE:False\tGROUPID:2\tDEPTH:1\t,\n",
      "CANCEL:False\tGARBAGE:False\tGROUPID:2\tDEPTH:1\t{\n",
      "CANCEL:False\tGARBAGE:False\tGROUPID:3\tDEPTH:2\t<\n",
      "CANCEL:False\tGARBAGE:True\tGROUPID:3\tDEPTH:2\t!\n",
      "CANCEL:True\tGARBAGE:True\tGROUPID:3\tDEPTH:2\t!\n",
      "CANCEL:False\tGARBAGE:True\tGROUPID:3\tDEPTH:2\t>\n",
      "CANCEL:False\tGARBAGE:False\tGROUPID:3\tDEPTH:2\t}\n",
      "CANCEL:False\tGARBAGE:False\tGROUPID:3\tDEPTH:1\t,\n",
      "CANCEL:False\tGARBAGE:False\tGROUPID:3\tDEPTH:1\t{\n",
      "CANCEL:False\tGARBAGE:False\tGROUPID:4\tDEPTH:2\t<\n",
      "CANCEL:False\tGARBAGE:True\tGROUPID:4\tDEPTH:2\t!\n",
      "CANCEL:True\tGARBAGE:True\tGROUPID:4\tDEPTH:2\t!\n",
      "CANCEL:False\tGARBAGE:True\tGROUPID:4\tDEPTH:2\t>\n",
      "CANCEL:False\tGARBAGE:False\tGROUPID:4\tDEPTH:2\t}\n",
      "CANCEL:False\tGARBAGE:False\tGROUPID:4\tDEPTH:1\t,\n",
      "CANCEL:False\tGARBAGE:False\tGROUPID:4\tDEPTH:1\t{\n",
      "CANCEL:False\tGARBAGE:False\tGROUPID:5\tDEPTH:2\t<\n",
      "CANCEL:False\tGARBAGE:True\tGROUPID:5\tDEPTH:2\t!\n",
      "CANCEL:True\tGARBAGE:True\tGROUPID:5\tDEPTH:2\t!\n",
      "CANCEL:False\tGARBAGE:True\tGROUPID:5\tDEPTH:2\t>\n",
      "CANCEL:False\tGARBAGE:False\tGROUPID:5\tDEPTH:2\t}\n",
      "CANCEL:False\tGARBAGE:False\tGROUPID:5\tDEPTH:1\t}\n",
      "CANCEL:False\tGARBAGE:False\tGROUPID:0\tDEPTH:0\t{\n",
      "CANCEL:False\tGARBAGE:False\tGROUPID:1\tDEPTH:1\t{\n",
      "CANCEL:False\tGARBAGE:False\tGROUPID:2\tDEPTH:2\t<\n",
      "CANCEL:False\tGARBAGE:True\tGROUPID:2\tDEPTH:2\ta\n",
      "CANCEL:False\tGARBAGE:True\tGROUPID:2\tDEPTH:2\t!\n",
      "CANCEL:True\tGARBAGE:True\tGROUPID:2\tDEPTH:2\t>\n",
      "CANCEL:False\tGARBAGE:True\tGROUPID:2\tDEPTH:2\t}\n",
      "CANCEL:False\tGARBAGE:True\tGROUPID:2\tDEPTH:2\t,\n",
      "CANCEL:False\tGARBAGE:True\tGROUPID:2\tDEPTH:2\t{\n",
      "CANCEL:False\tGARBAGE:True\tGROUPID:2\tDEPTH:2\t<\n",
      "CANCEL:False\tGARBAGE:True\tGROUPID:2\tDEPTH:2\ta\n",
      "CANCEL:False\tGARBAGE:True\tGROUPID:2\tDEPTH:2\t!\n",
      "CANCEL:True\tGARBAGE:True\tGROUPID:2\tDEPTH:2\t>\n",
      "CANCEL:False\tGARBAGE:True\tGROUPID:2\tDEPTH:2\t}\n",
      "CANCEL:False\tGARBAGE:True\tGROUPID:2\tDEPTH:2\t,\n",
      "CANCEL:False\tGARBAGE:True\tGROUPID:2\tDEPTH:2\t{\n",
      "CANCEL:False\tGARBAGE:True\tGROUPID:2\tDEPTH:2\t<\n",
      "CANCEL:False\tGARBAGE:True\tGROUPID:2\tDEPTH:2\ta\n",
      "CANCEL:False\tGARBAGE:True\tGROUPID:2\tDEPTH:2\t!\n",
      "CANCEL:True\tGARBAGE:True\tGROUPID:2\tDEPTH:2\t>\n",
      "CANCEL:False\tGARBAGE:True\tGROUPID:2\tDEPTH:2\t}\n",
      "CANCEL:False\tGARBAGE:True\tGROUPID:2\tDEPTH:2\t,\n",
      "CANCEL:False\tGARBAGE:True\tGROUPID:2\tDEPTH:2\t{\n",
      "CANCEL:False\tGARBAGE:True\tGROUPID:2\tDEPTH:2\t<\n",
      "CANCEL:False\tGARBAGE:True\tGROUPID:2\tDEPTH:2\ta\n",
      "CANCEL:False\tGARBAGE:True\tGROUPID:2\tDEPTH:2\tb\n",
      "CANCEL:False\tGARBAGE:True\tGROUPID:2\tDEPTH:2\t>\n",
      "CANCEL:False\tGARBAGE:False\tGROUPID:2\tDEPTH:2\t}\n",
      "CANCEL:False\tGARBAGE:False\tGROUPID:2\tDEPTH:1\t}\n"
     ]
    },
    {
     "name": "stderr",
     "output_type": "stream",
     "text": [
      "ok\n",
      "\n",
      "----------------------------------------------------------------------\n",
      "Ran 7 tests in 0.011s\n",
      "\n",
      "OK\n"
     ]
    }
   ],
   "source": [
    "import unittest\n",
    "\n",
    "class TestPartOne(unittest.TestCase):\n",
    "\n",
    "    def test_1(self):\n",
    "        self.assertEqual(Tree(\"{}\").score, 1)\n",
    "    \n",
    "    def test_2(self):\n",
    "        self.assertEqual(Tree(\"{{{}}}\").score, 6)\n",
    "    \n",
    "    def test_3(self):\n",
    "        self.assertEqual(Tree(\"{{},{}}\").score, 5)\n",
    "    \n",
    "    def test_4(self):\n",
    "        self.assertEqual(Tree(\"{{{},{},{{}}}}\").score, 16)\n",
    "    \n",
    "    def test_5(self):\n",
    "        self.assertEqual(Tree(\"{<a>,<a>,<a>,<a>}\").score, 1)\n",
    "    \n",
    "    def test_6(self):\n",
    "        self.assertEqual(Tree(\"{{<ab>},{<ab>},{<ab>},{<ab>}}\").score, 9)\n",
    "        \n",
    "    def test_6(self):\n",
    "        self.assertEqual(Tree(\"{{<!!>},{<!!>},{<!!>},{<!!>}}\").score, 9)\n",
    "    \n",
    "    def test_7(self):\n",
    "        self.assertEqual(Tree(\"{{<a!>},{<a!>},{<a!>},{<ab>}}\").score, 3)\n",
    "\n",
    "unittest.main(argv=['TestPartOne'], verbosity=2, exit=False)\n",
    "\n",
    "del TestPartOne"
   ]
  },
  {
   "cell_type": "code",
   "execution_count": 153,
   "metadata": {},
   "outputs": [
    {
     "data": {
      "text/plain": [
       "10820"
      ]
     },
     "execution_count": 153,
     "metadata": {},
     "output_type": "execute_result"
    }
   ],
   "source": [
    "Tree(long_input).score"
   ]
  },
  {
   "cell_type": "code",
   "execution_count": 177,
   "metadata": {},
   "outputs": [
    {
     "name": "stderr",
     "output_type": "stream",
     "text": [
      "test_1 (__main__.TestPartOne) ... ok\n",
      "test_2 (__main__.TestPartOne) ... ok\n",
      "test_3 (__main__.TestPartOne) ... ok\n",
      "test_4 (__main__.TestPartOne) ... ok\n",
      "test_5 (__main__.TestPartOne) ... ok\n",
      "test_6 (__main__.TestPartOne) ... ok\n",
      "test_7 (__main__.TestPartOne) ... ok\n",
      "\n",
      "----------------------------------------------------------------------\n",
      "Ran 7 tests in 0.008s\n",
      "\n",
      "OK\n"
     ]
    }
   ],
   "source": [
    "import unittest\n",
    "\n",
    "class TestPartOne(unittest.TestCase):\n",
    "\n",
    "    def test_1(self):\n",
    "        self.assertEqual(Tree(\"{<>}\").garbage, 0)\n",
    "    \n",
    "    def test_2(self):\n",
    "        self.assertEqual(Tree(\"{<random characters>}\").garbage, 17)\n",
    "    \n",
    "    def test_3(self):\n",
    "        self.assertEqual(Tree(\"{<<<<>}\").garbage, 3)\n",
    "    \n",
    "    def test_4(self):\n",
    "        self.assertEqual(Tree(\"{<{!>}>}\").garbage, 2)\n",
    "    \n",
    "    def test_5(self):\n",
    "        self.assertEqual(Tree(\"{<!!>}\").garbage, 0)\n",
    "    \n",
    "    def test_6(self):\n",
    "        self.assertEqual(Tree(\"{<!!!>>}\").garbage, 0)\n",
    "        \n",
    "    def test_7(self):\n",
    "        self.assertEqual(Tree('{<{o\"i!a,<{i<a>}').garbage, 10)\n",
    "\n",
    "unittest.main(argv=['TestPartOne'], verbosity=2, exit=False)\n",
    "\n",
    "del TestPartOne"
   ]
  },
  {
   "cell_type": "code",
   "execution_count": 178,
   "metadata": {},
   "outputs": [
    {
     "data": {
      "text/plain": [
       "5547"
      ]
     },
     "execution_count": 178,
     "metadata": {},
     "output_type": "execute_result"
    }
   ],
   "source": [
    "Tree(long_input).garbage"
   ]
  },
  {
   "cell_type": "code",
   "execution_count": null,
   "metadata": {},
   "outputs": [],
   "source": []
  },
  {
   "cell_type": "code",
   "execution_count": 56,
   "metadata": {},
   "outputs": [],
   "source": [
    "long_input = \"\"\"{{{{{{<!o!>!!!!!!\">},{<e!>!!>}},{<},!,!!!>}e!!!>{!>{,i!!!>,<}>},{<a!!!>e'!!!>,<!>!<'o'!!{au!{!>},<}!<>}},{{{<eu<!!!>!!!>!>!>,<!,oo>}}},{{{},{<ai!>!>,<e!>},<}!!!>e>,{{<!u!>,<,a<ae!>,<'!o'!>!u{!!!>,<,!!!>>}}},{{{<!!!oe}e},}!>}{e!!o!!,o'{<a>},<ei,{!!!>{!!{a!!!><<!{>},{{<>}},{{{{<{!><ei>},{{}}},{{},{<,!u!<o!!!>e!>},<!>!!!>,<ia!>!!!>!}}\"{>}}},{}}}}}},{{{<!>},<,!!}<i<!><!a!o!!<>},{<'\"!,!!!>},<!!!>,<i!>oo\">,<>},{{{<!>},<''!>},<!>,<!!<}!ea!<!>},<o>},<!i!oo>},{{},{<a!>,<!e\",'}>}},{{<!!!}iu!>!!,!!iau!>\"\"!>},<!>e{i}>,<\"!!>},{{<<}\"!ou!!o,>}}}}},{{{{{<!!!>'!!{!>,<>},<!>},<!'!>},<u!>\"<,!!!><i!!!!,!>u'!>},<!>a>},{{{<\">},<!!iu!!!>'e!>,<<{,!!a{!>},<u>}}},{{{}},{{{<!!!>},<!!!>,<u'ae\"!>>}},{{<\"!\"'!>,<<!!!!!>!>},<>}}}},{{<!}!<>},<e!!!>!!i,!!ao!>,<!>},<>}},{{{{<i!>},<u<!\"!>e\",!i!>i,}!>!!!!!>!!!!!>>},{<!!!>!!'!!!!!!!!!!!>,'i!!aau,!>!!>}}},{{},{<,!!!!,o!!!>},<!>,<o!>},<\",!!!>u!!'eou!>>,{{},{<!!!!!>!\"{<e!>},<}}>}}}}},{{{{{<>,<e<!!!>},<!\"!!!}!i}!>},<e<,>},{{{<,!o!}>}},{{<u,'!!,o!!!>!!!>ui!>},<!'\"o!>,<',!o>},{<!>},<!!i!i!>uiui\"}<!!!>!!}!!!>a}>}}},{{<!!!!!!a\",\"io<,ea!!!>},<!!!!!>o!>>},<!!a!>,<!>!u>}}},{{{<!>,<e!!!>,<<!>,<!e!!!>'e\"{io!>!>ie>,<!u!>},<!>!!e!>!>,<!},!!!>>},{{<!>,<o!!'!!!>},<!><!>,<>},{}},{<>,<a}oouu!>,<e}!>e{{}uu>}},{{{<a!!!!!>,<'!>,<!e!>},<!>e!!}!!!>}>},{<aa{!>,<!!'e,<o,!!!>o<!!!>o>}},{{{}},{<!>!!!>'>,<!{!!iu>}},{{{<\"!!!'!!,!>,<,!\"!>},<{!!,}{!!}!>o!!u>},{{<!<o!u'!>,<!!!>},<,!!e<!!>}}},<>}},{{{{{{},{}},{<\"!>,<!!}!>,<!>,<{},}<!!!}>,{}},{{<<!>},<i!!!>},<ii!!}!!!>},<!!\"a\",>}}}},{{{{{{{<a}>}},{}},{{},{{<i!!!>a!!i}}o!!!>!>,<<}a'!!!!!>},<!>},<o!!!!o>},{<a{!>!>,<!<}!!!>,<!>},<<\">}}}},{{{}},{<>,{}}}},{{<!!!>'o<ei>},{{}}},{{<<!!!\"e{,!>!!,,!!!!!>{\"u!>}!a>}}},{{{<!!!>},<'!>\"}!>,<!!!>>,{{},<ua!!!>i<u\"!!!!>}}},{{},{{<a\"a!>},<!>},<i!!!!a!>},<<'!!i!!!!!o!!!>i<a>},<!!!\"!>},<a>}}},{{<!i'o!!e}<!>i{>,<{u,!!e!!{\"'o!!!>,<!>},<!>,<>},{<i'!!u!>,<\"\"<!!!>!!!>!!!>!!!!e'!!!>!>},<}>,{{},{{<'e!!!}!!i}{a!!!>{!}!!!!!a>}}}},{<!>,<o}ui!<e!>,<{>}}},{{<>},{{{<\"!!!!,}}!!!{!>},<i\",\"!!!>,<e>}}}}},{{<!!<iiu!!!!u!!!o>,{<!!!>},<\"'>}},{{}},{{{{<!!eu}!>a!!a!!!>>,<u{{i!!'>},<!'!!!!!>i,}!!\"\"!o!!!>>},<'!!}!>,<<u\"!>,<!>i!{i!>,<!<<!!!!,!>,<\">}}},{{{{{<!>},<!!<u!,e<o>}}}},{<!>,<!!!>!!\"<<>,<\"!>},<!'!>,<!!!!!>},<e!!iu>},{{{{}},<o!!e!!!!!>ei!!'!>,<<!!<}o!'i!>>},{<!{uui!,>}}}},{{{<!>,<{!><!!!!>},{}},{{{<'i>},<!'!>!!o!}!!<e!>!>,<,a>}},{{},{{<{iu}\"!>,<e>}}}}},{{{<!!!>!!!>!!!><u!>,<!,!!!!!>,<!>,<\"!!>},{}}}},{{{}},{{{},{}},{<'u!>},<!!!>},<!>,<!!}!i,'!!!>!!e>},{{{}},{<!>,<<!o!!,!!!>\"u!}a<}>,{{<!!!>,<eo!>{!!{!>,<<!!,{!>},<a!!!!e!u!>>},<i\"}!!\"o<oi>}}}},{{<'!>},<ie>},{<!i!>,<!>,<!}}!>}\"{!!}>}}},{{{{{<}!u>},{<!!!>oa{!!!!!>o{!!a!!!>!>,<i!>},<',!>{>}}}},{{{{{<!!!>},<'\"!!{,e>}},<<,!!!,!}i!!<',u>},{{{}},{<!!''u!e!!!>!>},<i!>,<!!<!'o'!>!!!>!!!!!>!!!u!!>}},{{<ee!>!>,,!!!>,<!!!>e!><}!<>}}},{{<!!!>},<!!}!!!!{i\"}!!\">,{}}}}},{{<!!<!e{'>,{<ee>}},{{<u!!!!{<u!><iooa'e<uo>},{<!>uou\"\"!>,<!>},<!!!>},<u\"u>}}}}}},{{{{{<!>,<!>!>},<!>a!>},<\"{eeu!a{!>,<>,<!!!>>}}},{{{{<uea}\"!e!>>},<<!!'!!!>!,{'o!>},<!>!!!>,<e{o,'}>},{{<o}e!!!>!>},<!>},<}!!,!!a{ie{<u}>},{{{}},{{<>}}}}},{{<}i!!!>!>},<}\"e!>,<!e<>,{<'!>!!!>a!!{'oe}!!oo>}},{{<i}i\"<!>,<u!>u!!!>!!!>},<e>}},{<,}!!<a!>o!>,<!\"<>,<!!!>!>},<a!!e'!'u!>{,{!!o}>}},{{{<oa!!!>!!!>!>a,,,!!oe,o!>!!'!!!>>,{<}\"!!<\"i!>,<!>,<aa}<{u\">}},{<!!a!!<!!!>},<'>},{{<\",!!!>!>,<,a!}<\"}!>!!!>!>},<!>,<>},<!>,<!!<,>}},{{{{},{{{{},<!!!>},<,<u}<oe!\"<!>o!!!>\"!!!>!i>},{<<}oa!ae<e!!ooo'>,<!!,!!u!>},<u!!!!\"<!>u!>!e\"!!!!!>{u<!>},<!>,<>},{{},<>}},{{<!!!>u},{!!!>,<{!>,<a!>},<<!>u>,{}},<>},{{{{},{}},{<!>!!!!!a!!!>!e,\"!!!>>,{<!>,<!>},<ieo!e>}},{{<e!>,<''!>,<<ia!i''>,{<{!>,<<u}!!!>u,e,!>!!!>},<>}}}},{},{{<!}!!u!!!>!!!>i<o!,'!!!>{!!o!!iu,!!!>>},{{<o'u!>,<>}}}}},{{<!>},<!!u>},<oi\"\"uo!>'!!i\"uuu!>},<\"{>}}},{{},{}},{{{}},{}},{{{{<!>,<>}},{{{{{}},<>}}},{{<u<<!!o!>,<u<!>ai!!!>}>},<!!\"!>},<'}e\"<\"''!>>}},{{{<!!}!{eao!!!>},<!>,<i>}},{{{{{<ou!!<!>},<!!!>>}},<o!!!!u!!!!!>!'!>o!io>}}},{{{<iu,}}!>!!!!ei}!>,<'!>,<,!>},<{!>!>},<{>}},{<{!>,<!!!!}!!!!!>!>,<>,<!!{!><a!>,<i!!!>},<<!!!>!>!>,<!!!>,!!u!io>}}}}}}},{{<>},{{{<>}},{{<!>,<,iea{>},{}}}}},{{<}<<eo!u\"!>,<!>},<u!!!ee\"!!!>},<>,<}ii!!!>},<<a!!<ua>}},{{{<!!!>!>,<,'!!<>,{{},<<oee!>},<'a!!!>a!!>}},{<!>,<!>},<,a!!!!!>aau!>},<!>},<!!>}},{{},<!!{<<\"\"!>i!!!>!!!>!!a!>,<}!!!>!!'!!>}},{{{{<,,oa!!!!!>u!!'ee!!!!!>\"\"a{>},{<o!\"'u!!i>}},{{<e>,{<!>},<!!{o!>,<!,!>,<!!!>u\"ou,{,>}}}}}},{{{<o>,<!>},<e!ui!!!>e!>},<!!e}!!!>'o!!!>!!{a!!!,>}},{{{{<!!ae<oa!!!!!!!>>}},{{},{{{<!>,<!ei!>!!!!!>'i!!!!{,\"\"!,iui!!!>>}},<!!!!!>!!!>},<iu!>},<\"!>},<ee!!u'o!!{}{!>,<!!!>>}},{{{<<}u!{e>,{<!!!>>}}}}},{},{}},{{<!>>,{}}},{{<}>,{<<!,!!uu}'!!e,!e\"<e!>},<!!o!!\"o>}},{{},{<u'<!!!>!e!>},<u}<''\"!>,<!!!>},<!>},<ae!!!>},<>}},{<!i!!!>!>,<<!!!>a!'!!o{!!,!>},<u!>},<o}o>}}}},{{{{{<i!!!!!>!>,<u\"e!!!!!>!><<\"!u\"!!!!!!{!!>},{<e>}},{},{{<o!!!>o!!o\",>,{<e,i!>!!!>},<!>},<!'!!!>{!>,<',!!!>ei!!!!>,{<!!!>,<!!'!<e>,<!>,<,i!!ei!>{!!!><!,euo!!i\"e\">}}}}},{{<!ee\",>},{{},<>},{{<}!o<a!>!!!>u<!>,<!!ua\"'u\"!>u!>,<!>,<>}}},{{{{{{{<!'i{!!o,{\"eo!>{i>}},{<!>{!>},<<e!{\"{!>,<i''>}},{<>,<!!!>},<{>}},{{{{<\"e!<uu!>,<,!>},<!u,>},{}},{{{{<!{!ae!>},<'!>,<!,>,{<{!><}a'!>,<u!>,<,!!!!,e!!i{<'!>,<i>,{<e!!{ia!!o!!!>!>,<>}}},{<!<'{<!>,<}!!<\"<!!'<<'ae}}!>,<a>}}},<,{o!>!i!!oo\"!>},<!<>},{{{<u!i}u{>},<!!!>'{}!!!>,<{!!u,>},<eea!!'e!>,<!>},<{!>,<{!!i!>e>}},{{},{<e!!!}aoa!>!e!>,<ue}o!>},<>}},{{},{<{!\"\">}}},{{{{<!au!!o!\"!>},<oo}>},{}},{{{<>}},<\"\"a\"!>,<i<!!!!a!>!!}!>,<u'!!!>>},{<aaaaa<'uai{io>,{<o>}}}},{{<a,!!e,{{o'!>\"e,<>}}},{}},{{{<\"!>,<!!!u<>},{<u!!>}},{{{<\">,{<>}},{<a\"oe!!!>!!<>}}},{<!>!!!!!>ooa!!}!!!>,<!!!>!>,<aa!>}'!>},<>,<i!>,<!>,<e\"<u!>u>}}}},{{{{<o!>},<,'i!>oe{!!<!!!>!!}>},{{<i!!i<<!!!!''!!!>,<'!!!>!>},<!>!!!>>,{<u{!!!>!>!>},<>}}}}}},{{{<!i<{,uea!>},<,{'o!!o!>>},{<u,!!!!}!!!>},<>,{{{{{<!!,!!!!}'!>!!!>,<!>},<}!>,<!>!!<!>,<'o!>},<e}!>,<i>}},{}}},{}}},{{{},<,<'u>}}},{{{},{<!>},<}!!iau!!a}<!>o!!!>,<e!!u!!u'!!!>>},{{},<!!'<!!!>'}!!{!!}i\"'!a,!>},<<e>}},{{},{{<uu,'!!!>e>},{}}}},{{{<!a'!!}!!{<{}oe!!!!!o}!>},<>,<!>},<e!!!>'o!{>},{{<!>e!>,<,!!!>i!!!>{!{u'!>,<,\"!>,<eu<{>},{{},{<,e!!{{!!u!>}!e!!i{ie}!>},<a'ou>}}},{{{},{<e!>},<'oe\"o!>,<>}}}},{{},{}},{<!!!>i!!{<u!!!>!>,<!>,<!>,<\"{'<e},>,{}}},{{<!u!!,o,}!>,<ie!>,<!o!>},<u!,!>,<!\"o>,<!>},<a!!!!{!!{!>},<a!>!>},<!>,!!!>>},{<!>},<!u!>,<!>o!!!!!>o<!>},<e<!}}!}e>}}},{{{{<}!>,<}oi>},<!!!!}!>},<!e!!e>},{{{<!!!>>}}}},{{{<!>},<i!!!!!>},<>,<!>!!}!!!!!!{i!!a>},{}},{{},{{{<!i!>,<{}}a!!!!!>iu!>!!ie,!!!>i!>,<{>}},{{{<u!}i!>},<>},{<!>,<o!<!!!!!>!!!>!!e}\"!!>}}}},{{},{{<!>o''\"!>!ue}!>!!<\"}!>!!!>!!{>}}}},{{{<\"e>},{<'!i!>,<u>,{<!!u!>},<e!!!>>}}},{<\"<!!!><\"}u,!>e!!u'{!>},<ui!!!!,>},{}}},{{<!!o\"uu!<!>},<>},{}},{{{<u!>>}},{<!!}>},{<i!!!>}i!>>,{<!!oa!>!!!!eo}o,!}oia!!!>!!!>,<o}>}}}}},{{{{{<>},{}},{{{<a<','!!!!a\"{!>,<!!{!!,}'!>!!<!>},<>,<>},{{<}a!!!>\",!>,<u!>!>,<!!\",!!!>},<!>},<oioo>}},{<u!>},,>,{<o{!>},<!!\"'\"u!>,<oiu!>,<!!o>}}}},{{{{<!!,{,!!,!!i!!!>,<!,i\"!>},<!!>,{<!{<!>,<u>}}}},{<a!!{}!!!!<>,{<eee'>}}},{{},{{<}uo!!{<aae\"!>,'>},{<!!!>,<!}!<>}}}},{{{<}<{>}},{{{<<!!!!<!>},<e}'}ea!!!>!!u!>>},<!>},<{\"!>,<!>},<!!!>!>},<!>,{e!>,<'oa!!!>u>},{{{<a'{!u!!<{!>},<a!>'ea'i>},<!!!>ii!><u}!>},<!io!>,<i\"!>},<!>,<!>},<!>>}},{{},{<!>o'!>!>\"\"!i!!!!e!!!>!!!}i>,<<!>},<!!oai}o!'!>,<o!>,<!>!!i{!}a!!!!!!!>>}}}}},{{{<i}!!uee'\"iu'>}},{{{}}},{{{<!>},<<{e{i!>,<o!>,<,!u>},{{<!!<\"{<!a>}}},{{},{{{{<!>,<!{!!a!!!>!!!>!!{!<!>},<,<\",\"!!o>},{<i,},!!!>>}}},{{{<<!!!>!>,<!!!>},<{<u>},<<!!!!i>},{}}},{<!!!!e{!>},<ao!!,!{i{i!\"}u!!!>,e'>,<\"!!!>,<u!!!>,<!><!>>}}},{{<\"}!>!>},<!!!>!>,!!'a!!!!!>\"!!!!o!!{\"!>},<u,!>>,{<!!,\"\"!>!u!!!>!!{!>!aaa,>}},{<,ee!!i>},{{{}},{{<!!}{i!e}{!!e!!}}!>},<{!!}!!!><!!>,<!>,<!>,<!>}!>,<o!>},<{,i\"<e!!}!!!>,<>}},{{<!>,<!!!!!>},<<!!!>!>},<e'}!>,<!!!!!}{o!>!>,<>}}}}},{{{},{{{<'o\"<',,e>}}},{{{<!!!>\"o!>},<u\"u<,>}},{{<ei}<u<}!!>},<e\"!>u,!}!>,<>}}}}},{{{{<i!!<\">,<!!!!{a,ae!<!>,<>}},{{<!!i>,{}},{<,!!e!>},<i!>>}},{{{<!!!>},<}>},<{a!>!ao!!!>},<e}{o>},{{<u!>,!>\"'e{!!!>,<,!}au!>},<!'o!!<>},{{{<{',{}o!e!>,<>}}}}},{{{{<!!\"<e!\"'\"a>}}},{{{{<!!!!i!>!<}<!!!>>},{<eo!>,<!>!><,!>!!!>!!!>},<>}}},{{<{>},{<!>,<u!!,}!'!>},<!>'!>!!{!!!>}!!>}},{{<<!>!',}e!\"!!!>!!!>a!ie!!!!!!i>,{<o!\"!!!>},<!!!!!>>,{}}},<!>},<,!>\"'i>}},{{},{{<oia>},<\"'aueu!!u>}}}},{{{{<!o<<!>!{!>u'e'!!e,iu>},{<','!>,<!!!!{!>},<}u\"ue>}}},{{<!!<<uo!!!>},<!>,<!>,<i!>!\"i!!o!!{!>,<u\"e}!{>,<}iu!{ou!u'\"!!}!!<,!o\"{>},{<!>,<}!>a!!!>!>,<!!,!>,<ao!>},<>,<!!!>,'!!!a\"'!!<!!!>,<<!>{!>,<o'<!>,<a}>},{{{{<!!\"!'!!!>>}},{{<i>},<}{}<!!!!}e\"{!!!>!!!>!!!!!>},<!aee!>e>},{<}u'<<\",!e!>},<!!!!a!>,<i!!e>}},{{{},{}},{}}}},{{{<!>,<\"!!!>ea!>!!}!>oa!!!>,<!>},<i}\"io>},<a'!!i}!>},<}!uii!!i!>},<!>,<!>,<u!a!!>},{},{<!>},<'u{u!!<'!!!>e<a}e!!>}}},{{{{{{<u,ia!}{}u{!!}>}},<!!\"!!}!!a!!o}\"!>{!!<!>},<'!!o>},{},{<}!!o!!!!u!!!\"o{!!}!!{!>,<ui\"!!!>,<'>}},{{<>},{{<u}u{'e<}!'!!,!a\"!>>},{<!>},<>,{}},{{<o!!!>u!>},<!>,<!!!!!'e!>},<!>i!ou!>},<>},<e!!!>a!!!>}!!!!!!>}}},{}},{{<'u!oi}!!!>!>},<!>},<>,<ie!!!>},<e!>,<u>},{{<e{a<a!!}'ia{i!!!>},<!!i}{>},<a>}},{{<!!!>!!o\"!!'i!>,<!i!>e!>,<{!!!>\"'o>,{}},{{},{<{}io}}!o!!!>},<e!!!>>}}},{{{<\"!>{!!{!!!>!!!>{oa}'u!>},<u>},<'!u!>!>u\"'!e}!!!>'!!!!ee!!!!!!!!!!<>},{{<!>,<u!>,<'<\"o!!!>i!>!\"!!i>,{<o{>}},{<!>},<!>},<a!!<ia!!!>!!!>i!\"u>}}}},{{{},{{<u!!!!\"i!!!>!>,<{!!!>}>},{<!!!>'!>,<!!!>!!i!!!>,<!>,<\"<i!!!!!>!>a!>},<\">}},{{<ou!!!>u!!}>}}}}},{{{{{<<!!e}!i!!'io<{!>!!!!>},{<>,<ii{e>},{{<>}}}},{{{}},{<a<!>},<!>,<!!!!<!>,<o!\"e{!,e>,{<!!u}!>,<u}!>oa!>>}},{{<!!!>!!!!{'<<i<u!>},<a!>e>}}}},{{{{{{<!>},<e!>},<o'e}ie'i!>},<!!!>>},{{<ei\"!!!>!>aa,<<}i!!e{a>,{<!>,<<!>},<iu!o!>,<}a!>e!!!>!>,<o!>,<>}}},{{<'i{ea<<{>},{<{!!!>,>}}}},{{{{<{!>},<o!\"e!}!>,<<>},{<!>,<!>},<!>!!<'!!oae<'>,{{<!!!,io!>,<\">}}},{<<!>},<>}}}}},{{{{{<!!!><u!!\"a!!!!!>!>,<!{!>},<}<!>},<!!!!a!!!\"!>!>,<<>},{<!!!>!!<!>},<!>,<e{!>!!{\"!!!!\"eo>}},{{{{<!>,<oi!!u<u!!!>!!\"{{u>}},{{<>,<!!!>>}}}}},{{{<o!!!>a!>},<e!!u!>!>,<{{!>},<!!!au\"e!>{>},{{{{<!>,<i!>},<>},<>},{{<!{!>!>!!i!>!>,<>},{<'<<e>}}}}}},{{<!ia>},{{<<ao>}},{<,\">}},{{{<!!u{i,!>!!!>{,!{,!!>},{{{{<!i}!!i>},<!!!>e!>\"}>},<<!!{!>,<!!\"\"<!!!!!>\"!!{eu!!,>}},{}},{},{{{{{},<!\",uu,u}!>>},<{{!>!!!\"i!!e'!>},<!><i!>!!!>!!>},{{<u,o!>,<<u!!!>ii!!u!>,<!!<!!!>!>},<!!a!>},<i>},{<{a!>},<>}},{{{<!!'o!!!>!<!!!!'>,<,!\"e}}u>},{{{{<,>},{}},{{{{},<'>},<!!!>,<i!!!!!>!>,<!>,<,<,!!o!>}!!,!>},<!>>}}}}},{{<u!!{!>!o!>},<ao'i!!!>'u>,<!>},<ae\"i!!u!>,<!<e,'!!\"!>'>},{{{{{{},<<\"!>e!>,<,}u\"!u{!>>},{<>}},{<'!>},<{\"\"'{u,>}},{<ea!!!!!>o!!!>,,\"'!!!>},<i}{!!\"!>},<!!i}<>,<}<>},{{{{{<o!>,<!e!!!e!e<!>,<i!!!!a>}},{<!>,<!!!>u!!a>,<!ii}'!>,<!{{!!!>!>!!>}},{{}},{}},{{{<!>},<<i!a!!!!e!>,<o'!>},<,!!!>!!<>},{<!!!>o\"!>},<}!!!>!i\"{<!>!>},<,,!>!>,<>}}},{{<!!!>'!!!>},<i!!<!>ui{\"{,a!!!,i!!u'!!>,{<!>auo!!!>!>},<!a}'!>,<!!!>!>,<'<uo!>,<,o>}},{{{{<e!>,<!!'{!!!o!<u!>!!!>a>}},<},!!!>!!ae!!!e\"!!}!!!>!!{!>,<>},{}},{{},<!,>}}}},{{},{{<!!<'!!!!!!!!!>!!!>!>},<i'!>},<e,!!,>}}}}}}},{{{{{<}>,{<{!>!>,<!!!>>}}},{{<!',!oe}!>,<<!>,>,{}}},{}},{{{<'!>},<!>,<ee!!!>!!{!>!>!>},<!!!>u!{!>},<{<>}},{{<u!!!!!!!!,uu!>io,>},<oe>}},{{<!u!!!>!>o\"!!\"i<>},<a!>},<!>,<!>,<>}},{{{{}},<!!!{<'i!>},<<i!>,<!!!!!!!><<>},{{}},{{<e>}}}}}}},{{<\"!a!>},<!>},<!>}a<!><}uuo>},{{}},{{}}},{{<e'aoi!>'e'u!>!>},<!>,<}!!!{!>,<>},{<\"e'\",e!e<!!!>!o!!{>,{<!!ea'oa!>,<a!!'>}}},{{<!!!!!>'u!!<a>,<!!!>u>},{<!!}!!!>!!}!!{!u}!>,<!>},<>,{<,!!o{\"!>,<}\"a>}},{{<!>\"e!>{},i,}ue!!!>{{}!>>},<}i!>>}}},{}},{{{},{}},{{{<!!!>!>,<!>},<!>},<!,!!!!ia!>,<e}!>},<!>,<<a<>}},{{}}},{{<!!!>,<i!!\"!!!>!aia!>},<{>,{<<,o!!}ao!>,<!!!>,<ae>}},{<,!!!>!>},<u!>,<oe!>},<!!,!>>},{<!>,<!!!>>,{<{!!\"!<!!a\"i!!u<!e!!!>i!e!!!u'!!e!>,<>}}},{{{{{<!}!>,<{!!i!!o!a\"ueo!}\"!>a<!>,<!!e>}},{<o>,{}}},{{<!!!>!!!!!>aa!>},<>,{<>}}}},{<!!!!'!!!!!>o!>,<!!i!>},<a\">,{{<i,!>},<}}{!o!e!!!<!>},<!>!>,<>},<!'!>!!!!!>o}!>e!!>}},{<!!oi<i!!!!!!!>},<{a{>}}},{{{<!>,<i!!!!e'u!>},<!!!>!>!>},<i!>,<!!!!!>>},{<{i,u!!!>,>,{}},{<ioa!!!>o!>},<!>},<au>}},{{},{<<e!!!!e'!!{}>},{{{<<a!>,<!!!!!>!}{!>,<}!!<!!'e!!!!\"!!,!>},<'>}},{{},<!!!>!>,<!e}\"!>,<'!!!>,<,!>},<'{!!{}'>}}},{{{{{<!!u>,<!>,<!>>}},{<!>!>},<!!e<i''!>>,{<e!>},<u,!'!>},<!!!!a<,!!>}}}},{}}},{{{<}'!!!!>,<<}'!!'{''!!>},{{{<auio!!'!>},<!!u{!ao!>!!!!!>u!!,e!\"i!!!>>}},<!,ao!o!>,<!!!>!>},<u!!i!>},<!!!>{!>,<>},{<!!i!>!!{>,<\"!!!><e>}},{{{{}},{{},{<!'!>},<!!!ao{!>>}},{{<!!,{!!a>},{<!a<!!!>!>!>},<}u!>},<>,{{<}'{!>,<a<>}}}}}},{{{{}}},{{{},{<>}},{},{{}}},{}}}},{{{{{<!><!>},<!>,<!!}>},{{<{!>,<<!!{e>},{{{{},{}}},{<!!!>i!!a,!>,<!>},<o!e'\"ea!e}!!!!!>a<{>,{}},{{{<>},<!!!>,>},{<,o!!{<!\"!>,<}\"u>}}},{{}}}},{{<>,<\"',\"<,!>},<i!!!>!!!>!!e}!!!>>},{<u!>!>},<\"u!!!>>,<!i\"<!>,<!>>},{{<\"e{!e!>!>,<!>!>},<,!>\"'!!!!i!>!!'>}}},{{{{{{},{{<{e!!!>!>>}}},{{}}},{{<eeo\">},{<>}},{{<i!>},<'a!!!}{!!!>o,!ui!<!>},<!>,<'!>,<\">},{<'}!>},<<>}}},{<\"!>u!u<a<,!\"{u{>},{{<ai!!!>},<oi!!u!>},<!!!!!>eu!',!!aui!!\"<>},{{<!>,<!>,<!><!!,!}o!!!>,<!!ie,!!u!!'!!!>!!\"{o>},{<\"!>,<a,}<o!!e!{{!>,<}u}!>},<>}}}},{{{<{{\"!!!>!!!>!>,<i>},<'uu!>!!!}{u,a!>,<!>},<<o!!!>>},{{{},{{},{{<o!>!a'{u!!!!!u!!,!>,<e!e<!!i{>}}}}}},{{<<!!!>},<!>,<oue!!!>!!!!!>!>},<a!!!>o!!!>!>},<''e!!<>}},{{<!!!>!>},<o'o!}u!!,!\">},{{{<<u!!!>{},!>},<!u,!>},<\"!!!!'ou!!!>eu>}},{<uo!!!>!>},<'!>},<!>,<!!!>{i>,{<{{{'!>ai'!!!>iie!<}!!!>!!!!!>},<}!!>}}},{{{{},<!>},<oou!!!>\"i!>!!!!,!>,<!,\"!!!>,u,,>},{<oa!>}o{o!''o!!!>>}},{{<!o,<o!>!>>},<uoea!o!ui!!,!>}!!!>}<u>},{}}}},{{{<!>,<'u!i>}},{<>,<,}!>,<<!!!!,!!!>a''e!u}e!>},<!!!>>},{}}}}},{{{{{},<o!>!!}u!>,<{,!!!>e!!<oa!>},<!>},<!\">},{{<'!!a!!,o'o!>,<!e{<o>}},{<!!!><>,{{<!>!>,<ou,!>e!!!>!!}i!!!{!!\"!<i!>,<!>,<>},{<>,{{}}}}}},{{<u}<u{!!!!!>i!!'>},{},{<a!>!}}!>a!a!>},<{!!!!!!,u!u>,{{<}'!!u!!!>',,!>,<a!!ai'}{!!e!a>},<<e!>,<,io>}}},{{{{<!!!>,<u{,e!!!>!>,<!!!>!!}!>,<!>,<!!!!!>},<a,{>}},<!!!>!ue}>},{<,!>},<!!\"<u,{ai!'e!>,<o{{!>,<!>,<'>}}},{{{{<!>,<ue!>,<iu!>},<{'a!!}!>,<!}!>},<<<!!!>>}}}},{{{{{{<\"!!!>!!ue'\"<'!>!>},<!!\"o'\"!>,<!>,<}>},<!!<e>},<!!\",!>,<ou'<\"e!!e>}},{{<}oa>,<<e,o>}},{{{{<\"!!!!!>e,!!\"!!!{!<i!>},<a!oa!>,<{!!{>},{<i<u,',u!uuu!<>}}}},{}},{{{{{<,o!!!>!u!!!!iei!>},<!!}'<a>}},{<'{ai}ui!!u!>},<,<!!i>}},{{{<!>,<iu\"<!!!!i{\"e}<!>},<!!i!o!>>},<!!!>,<!>,<a!>}!!!>{!>!>,<o}\"o!!!>{!>,<'e}>}}}},{{{{{},{{<!!,'o!!!>,!>,<!>,<!}!!!>},<<\"!!!!!!!!!!!>{<>}}}},{{<!!<\"o!!!>u!!i\"!!u!!!>{a}oa{!a!>},<>}},{{{{<!!!>},<\"!!!>},<\"\"a'!!o\"ioa\"}'>}},{}},{{}},{{<!>},<!\"!i,}>},<!!>}}}},{{{{<!!!!!>,<>},{{},{{<>}}}},{{}},{{<a!!}u>},{{},{{<!!!!!!!>!'!!!>}{!>},<!!<ao!,!!>}}}}},{{{<!>},<!!!!}!>,<!>!!a!!!o!>!>,<e}'!>},<!>},<e>,<!!!>>},{{<,}!,e!>,<!!!>,u<\"!\"!!>}}},{<i!!!>,<!!!>}!!ea!,!>,!>,<o!>},<!>},<!!!>!>,<!<!>,<>,<>},{{<e<!i<}ii!!!!}>,<uu!!!\"!!,u!>!\"e'<>},{},{<\"{{iu,!>e!!!!,!>},<!>!!!!!>,<!e!!!>>}}},{{{}}},{{<>},{{}}}},{{{<o>,<!>,<ia!>!!}}'\",i!>{<!>,<>},{<!!}'!!{!!!!!!!>!!ae,\",<!!o}!>},<>}}}},{{{{},{<!>},<}o\"!!!!!o!>,<,iu!!!!\"!!'<!!!!i>}}},{{{{}},{<<\"}!!!>,<!!u!!}!'!!!>},<!!!>>}},{{{<i}!!ae!e!>},<!>},<iui!>!<!>!>!i!!'>},{<!>},<}ee!uuu!!,!>},<!!o,a{,e>}}},{<!\"!>,<>,{<!!!!!>!!!>,<!!!>!>,<,,!!!>'!o\"!<>}}},{{{}}}},{{{{{{<'o!!!>},<>,{}}},{},{{<o!<,,,!>},<i>}}}},{{{<}!o!!{\"!'!!!>},<!!!>aa\"!!!>ieao>}}}},{{{{<!!!>},<!!!>uia!!!>!>,<!>,<ia'e!>u''io{>,{}},{<u<!>,<!>},<!!!>o}!!iaa!>},<>}},{{<a'\"!!!!a{,!>,<!!<e!>},<{ea!>!!!!!>>}},{{{},{<o!!!>ee!!i!!!>i!!!>,<!!<u,!'!>,<oi!>!>,<>},{{<}u}',iai!>,<',!!au!>>},<!!!!!!u!!!>!>},<!!!>!>,<a>}},{{<>,<!>},<,'!>\",{o!!!>,<!!u!!<}>}},{<u!\"i'!!!!!>!>,<\",oi}!!<!!!>,<'>,{<a!{\"!>,<!>},<{i!!,\"!!e}!>!!!aao>,<!!{u'!!!><}!!'>}}},{{<o!!<u'!>!i!e},o,!>,<o!>,<,!i!>\"<>,<\"u}>},{{{{<!!!>u!!!>e!!!<u!!!{>,{{{}},{<!>},<'{!a!><!!u!>ue!!!>!>,<>}}}},<!!e{!>,<eau<!,<'!!!>}!!!!!>,<u'eua>}},{{}}}},{{{<\"u}!!!>!!!>o{!!!!{io!!!>e!<!!!',>,{<!!{!>,<!>},<}\"!!<\"''e!!ao>}},<iao!!!>!o!i!>,<!>e!o>},{<!!!>e!'o'<>,{<e,!!!>iui!>!!o!>,<!>},<>}},{{<!!!>,<o!!!>},!!!!!>},<e}oo>},<'!>,<!!!!{e!>,<!>{!e',!\",>}},{{{{<!!e!>>,<!!a!>,<i!>},<i!!e{!>},<!!>},<u,!!!>},<i!!''{i{!>},<uo!!!>{o!!!!!!o!!e>}},{{<>}}},{{{},<a!!<!>},<\"!o!!!>i!!!>!!e!!!>,!!!!!>ia<<'>}}},{},{{{},{{<!!!>,<!>!>,<<o!\"!>,<!!'!!!!,>}}},{{{{}},{}}}},{{{{{<'!>a!!!!!>\"!!!!!>},<!>!!!>>}},{}},{<i!!!><!e!!!>,<,!>,<\"!!!>u!!!!!>!!!>!>!<{>,<\"!!!>,<i\"!!i!>,<}'!!e!!'!!!!!>u!>\"u>},{{},{<!>},<e!>},<u!>!!!>},<>}}},{{{{{}},<!o!>!!>},{{<,,o!!'!>},<ai!><>,{<!!,}!!!>e>}}}},{<!!!>,!>,<>,<!!\"uuue>}},{{<!>,<!!<ue!!!>a!>,<oo<!>,<!!o!,u>,<ei!!!>a'!>,<!!!}<!>,<>}},{{{<u!>,<i\"i!>,<!<'ee,<!>},<>,<\"i}{!!!o'{,i!!,!>\"u>}},{{<!>,<!>!!!>ea<oa\"<,{<!!}e!!'>},<!!>}}}}}},{{{{<!,ei{ua!!!!}!!>}},{{{{}},{{{{<!!<{!i,<!!\"!>,<eu>},<'>}},<}o<i!!{,>}},{<!a!>},<!!ioau}>,{<!!,>}}},{{},{{{<!>,<e!!!>'a!!!><!a!!!>'!!!!!>!>},<>}},<\"e!>,<!!!>},<!!!'!!!>o!>},<o}!!,u!!!>,>},{{<eu!>,<u!o!>},<!!!><'<!>},<!>},<!'iaii!!!!u!o>,{<ia>}},{<a!>,<!!{{!>!>},<>}}}},{{{{<}!>},<!>!!>}},{{<!!\"oeo>},<u}}!>,<!!!!u,!\"!!'{!>a!!>}},{{{<!!!>i}'eeu!!!>!>'>}},{<!>,<\"!!!>,<!!}!,!!,!>,<eo!!!,!>},<!!i}{>,{<{!i{e!>,<oi\"!a!!!!!>ue!>},<{!>},<,!>,<i>,{<,>}}},{{<!!!>,<'!>},<}>}}},{{{{{<<a!!!i}!>!!!>a!!ao!!!>,<>}}},{{<!>,<>}},{{<!!u!!'\"!>},<!!}!,'\"a!,,e>},<!>},<e'!>,<!>!>},<ea!>!!'!>},<!!e!!{<!>,<!!iu>}}}},{{{{},<u,\"a,a>},{{<!>},<>},<!!!!!>'{,!>,<<>}},{{{}},{{<!!!!e<{!!!oi,,u!>>}},{{<,i'o!!>},{<u'eo!>,<!!i>}}},{{<!>i>},{<!>>,{{<!!!>u!!{!!{!>,<!>!!>},{<a,e<!!!!o!>},<!}>}}},{{{{}},{{<!>e!>},<oi<!!o,o>}},{{<!\"!!<a>}}},{},{{<!!!>!!a!>,<e!!!>,<{!!!>!!,!>',>}}}}}}}\"\"\""
   ]
  }
 ],
 "metadata": {
  "kernelspec": {
   "display_name": "Python 3",
   "language": "python",
   "name": "python3"
  },
  "language_info": {
   "codemirror_mode": {
    "name": "ipython",
    "version": 3
   },
   "file_extension": ".py",
   "mimetype": "text/x-python",
   "name": "python",
   "nbconvert_exporter": "python",
   "pygments_lexer": "ipython3",
   "version": "3.7.1"
  },
  "varInspector": {
   "cols": {
    "lenName": 16,
    "lenType": 16,
    "lenVar": 40
   },
   "kernels_config": {
    "python": {
     "delete_cmd_postfix": "",
     "delete_cmd_prefix": "del ",
     "library": "var_list.py",
     "varRefreshCmd": "print(var_dic_list())"
    },
    "r": {
     "delete_cmd_postfix": ") ",
     "delete_cmd_prefix": "rm(",
     "library": "var_list.r",
     "varRefreshCmd": "cat(var_dic_list()) "
    }
   },
   "types_to_exclude": [
    "module",
    "function",
    "builtin_function_or_method",
    "instance",
    "_Feature"
   ],
   "window_display": false
  }
 },
 "nbformat": 4,
 "nbformat_minor": 2
}
