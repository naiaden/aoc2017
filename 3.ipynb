{
 "cells": [
  {
   "cell_type": "code",
   "execution_count": null,
   "metadata": {},
   "outputs": [],
   "source": [
    "# Part I\n",
    "\n"
   ]
  },
  {
   "cell_type": "code",
   "execution_count": 43,
   "metadata": {},
   "outputs": [],
   "source": [
    "def carry(input):\n",
    "    if input == 1:\n",
    "        return 0\n",
    "    \n",
    "    x,y = find_in_spiral(input)\n",
    "    \n",
    "    return abs(x)+abs(y)"
   ]
  },
  {
   "cell_type": "code",
   "execution_count": 46,
   "metadata": {},
   "outputs": [],
   "source": [
    "def find_in_spiral(input):\n",
    "    c = 1\n",
    "    \n",
    "    min_x, max_x, min_x, max_y = 0,0,0,0\n",
    "    \n",
    "    x,y = 0,0\n",
    "    \n",
    "    direction = 'right'\n",
    "    \n",
    "    while c != input:\n",
    "        \n",
    "        if direction == 'right':           \n",
    "            if max_x == x:\n",
    "                max_x += 1\n",
    "                direction = 'up'\n",
    "            x += 1\n",
    "        \n",
    "        elif direction == 'up':           \n",
    "            if max_y == y:\n",
    "                max_y += 1\n",
    "                direction = 'left'\n",
    "            y += 1\n",
    "            \n",
    "        elif direction == 'left':                \n",
    "            if -1*max_x+1 == x:\n",
    "                direction = 'down'\n",
    "            x -= 1\n",
    "            \n",
    "        elif direction == 'down':\n",
    "            if -1*max_y+1 == y:\n",
    "                direction = 'right'\n",
    "            y -= 1\n",
    "            \n",
    "        c += 1              \n",
    "    \n",
    "    return x,y"
   ]
  },
  {
   "cell_type": "code",
   "execution_count": 47,
   "metadata": {},
   "outputs": [
    {
     "name": "stderr",
     "output_type": "stream",
     "text": [
      "test_1 (__main__.TestPartOne) ... ok\n",
      "test_1024 (__main__.TestPartOne) ... ok\n",
      "test_12 (__main__.TestPartOne) ... ok\n",
      "test_23 (__main__.TestPartOne) ... ok\n",
      "test_position (__main__.TestPartOne) ... ok\n",
      "\n",
      "----------------------------------------------------------------------\n",
      "Ran 5 tests in 0.005s\n",
      "\n",
      "OK\n"
     ]
    }
   ],
   "source": [
    "import unittest\n",
    "\n",
    "class TestPartOne(unittest.TestCase):\n",
    "\n",
    "    def test_position(self):\n",
    "        for c, p in zip(range(1,11),[(0,0), (1,0), (1,1), (0,1), (-1,1), (-1,0), (-1,-1), (0,-1), (1,-1), (2,-1)]):\n",
    "            self.assertEqual(find_in_spiral(c), p)\n",
    "    \n",
    "    def test_1(self):\n",
    "        self.assertEqual(carry(1), 0)\n",
    "    \n",
    "    def test_12(self):\n",
    "        self.assertEqual(carry(12), 3)\n",
    "        \n",
    "    def test_23(self):\n",
    "        self.assertEqual(carry(23), 2)\n",
    "        \n",
    "    def test_1024(self):\n",
    "        self.assertEqual(carry(1024), 31)\n",
    "        \n",
    "#     def test_1(self):\n",
    "#         self.assertEqual(carry(1), 0)\n",
    "\n",
    "unittest.main(argv=['TestPartOne'], verbosity=2, exit=False)\n",
    "\n",
    "del TestPartOne"
   ]
  },
  {
   "cell_type": "code",
   "execution_count": 45,
   "metadata": {},
   "outputs": [
    {
     "data": {
      "text/plain": [
       "326"
      ]
     },
     "execution_count": 45,
     "metadata": {},
     "output_type": "execute_result"
    }
   ],
   "source": [
    "carry(361527)"
   ]
  },
  {
   "cell_type": "markdown",
   "metadata": {},
   "source": [
    "# Part II\n",
    "\n",
    "As a stress test on the system, the programs here clear the grid and then store the value 1 in square 1. Then, in the same allocation order as shown above, they store the sum of the values in all adjacent squares, including diagonals.\n",
    "\n",
    "So, the first few squares' values are chosen as follows:\n",
    "\n",
    "    Square 1 starts with the value 1.\n",
    "    Square 2 has only one adjacent filled square (with value 1), so it also stores 1.\n",
    "    Square 3 has both of the above squares as neighbors and stores the sum of their values, 2.\n",
    "    Square 4 has all three of the aforementioned squares as neighbors and stores the sum of their values, 4.\n",
    "    Square 5 only has the first and fourth squares as neighbors, so it gets the value 5.\n",
    "\n",
    "Once a square is written, its value does not change."
   ]
  },
  {
   "cell_type": "code",
   "execution_count": 106,
   "metadata": {},
   "outputs": [],
   "source": [
    "class Spiral:\n",
    "    \n",
    "    \n",
    "\n",
    "      \n",
    "    def get_values_around(self):\n",
    "        _sum = 0\n",
    "        \n",
    "        _sum += self.spiral.get((self.x+1,self.y), 0) # right\n",
    "        _sum += self.spiral.get((self.x,self.y+1), 0) # above\n",
    "        _sum += self.spiral.get((self.x+1,self.y+1), 0) # right above\n",
    "        _sum += self.spiral.get((self.x-1,self.y), 0) # left\n",
    "        _sum += self.spiral.get((self.x-1,self.y+1), 0) # left above\n",
    "        _sum += self.spiral.get((self.x+1,self.y-1), 0) # right below\n",
    "        _sum += self.spiral.get((self.x-1,self.y-1), 0) # left below\n",
    "        _sum += self.spiral.get((self.x,self.y-1), 0) # below\n",
    "        \n",
    "        return _sum\n",
    "    \n",
    "    def __init__(self, input):\n",
    "        if input == 1:\n",
    "            return\n",
    "        \n",
    "        self.c = 1\n",
    "        self.spiral = {(0,0): 1}\n",
    "        \n",
    "        self.min_x, self.max_x, self.min_x, self.max_y = 0,0,0,0\n",
    "    \n",
    "        self.x,self.y = 0,0\n",
    "\n",
    "        self.direction = 'right'\n",
    "        \n",
    "        while self.c <= input:\n",
    "        \n",
    "            if self.direction == 'right':           \n",
    "                if self.max_x == self.x:\n",
    "                    self.max_x += 1\n",
    "                    self.direction = 'up'\n",
    "                self.x += 1\n",
    "\n",
    "            elif self.direction == 'up':           \n",
    "                if self.max_y == self.y:\n",
    "                    self.max_y += 1\n",
    "                    self.direction = 'left'\n",
    "                self.y += 1\n",
    "\n",
    "            elif self.direction == 'left':                \n",
    "                if -1*self.max_x+1 == self.x:\n",
    "                    self.direction = 'down'\n",
    "                self.x -= 1\n",
    "\n",
    "            elif self.direction == 'down':\n",
    "                if -1*self.max_y+1 == self.y:\n",
    "                    self.direction = 'right'\n",
    "                self.y -= 1\n",
    "\n",
    "            self.c = self.get_values_around()\n",
    "            self.spiral[(self.x,self.y)] = self.c\n",
    "            \n",
    "            print(f\"{self.x,self.y}\\t{self.c}\")\n",
    "    \n"
   ]
  },
  {
   "cell_type": "code",
   "execution_count": 107,
   "metadata": {},
   "outputs": [
    {
     "name": "stdout",
     "output_type": "stream",
     "text": [
      "(1, 0)\t1\n",
      "(1, 1)\t2\n",
      "(0, 1)\t4\n",
      "(-1, 1)\t5\n",
      "(-1, 0)\t10\n",
      "(-1, -1)\t11\n",
      "(0, -1)\t23\n",
      "(1, -1)\t25\n",
      "(2, -1)\t26\n",
      "(2, 0)\t54\n",
      "(2, 1)\t57\n",
      "(2, 2)\t59\n",
      "(1, 2)\t122\n",
      "(0, 2)\t133\n",
      "(-1, 2)\t142\n",
      "(-2, 2)\t147\n",
      "(-2, 1)\t304\n",
      "(-2, 0)\t330\n",
      "(-2, -1)\t351\n",
      "(-2, -2)\t362\n",
      "(-1, -2)\t747\n",
      "(0, -2)\t806\n"
     ]
    },
    {
     "data": {
      "text/plain": [
       "806"
      ]
     },
     "execution_count": 107,
     "metadata": {},
     "output_type": "execute_result"
    }
   ],
   "source": [
    "s = Spiral(747)\n",
    "s.c"
   ]
  },
  {
   "cell_type": "code",
   "execution_count": 80,
   "metadata": {},
   "outputs": [
    {
     "data": {
      "text/plain": [
       "192"
      ]
     },
     "execution_count": 80,
     "metadata": {},
     "output_type": "execute_result"
    }
   ],
   "source": []
  },
  {
   "cell_type": "code",
   "execution_count": 99,
   "metadata": {},
   "outputs": [
    {
     "name": "stderr",
     "output_type": "stream",
     "text": [
      "test_1 (__main__.TestPartTwo) ... FAIL\n",
      "test_2 (__main__.TestPartTwo) ... FAIL\n",
      "test_3 (__main__.TestPartTwo) ... FAIL\n",
      "test_4 (__main__.TestPartTwo) ... FAIL\n",
      "test_5 (__main__.TestPartTwo) ... FAIL\n",
      "test_position (__main__.TestPartTwo) ... ok\n",
      "\n",
      "======================================================================\n",
      "FAIL: test_1 (__main__.TestPartTwo)\n",
      "----------------------------------------------------------------------\n",
      "Traceback (most recent call last):\n",
      "  File \"<ipython-input-99-870e7f9e8be7>\", line 10, in test_1\n",
      "    self.assertEqual(Spiral(1).c, 1)\n",
      "AssertionError: 2 != 1\n",
      "\n",
      "======================================================================\n",
      "FAIL: test_2 (__main__.TestPartTwo)\n",
      "----------------------------------------------------------------------\n",
      "Traceback (most recent call last):\n",
      "  File \"<ipython-input-99-870e7f9e8be7>\", line 13, in test_2\n",
      "    self.assertEqual(Spiral(2).c, 1)\n",
      "AssertionError: 4 != 1\n",
      "\n",
      "======================================================================\n",
      "FAIL: test_3 (__main__.TestPartTwo)\n",
      "----------------------------------------------------------------------\n",
      "Traceback (most recent call last):\n",
      "  File \"<ipython-input-99-870e7f9e8be7>\", line 16, in test_3\n",
      "    self.assertEqual(Spiral(3).c, 2)\n",
      "AssertionError: 4 != 2\n",
      "\n",
      "======================================================================\n",
      "FAIL: test_4 (__main__.TestPartTwo)\n",
      "----------------------------------------------------------------------\n",
      "Traceback (most recent call last):\n",
      "  File \"<ipython-input-99-870e7f9e8be7>\", line 19, in test_4\n",
      "    self.assertEqual(Spiral(4).c, 4)\n",
      "AssertionError: 5 != 4\n",
      "\n",
      "======================================================================\n",
      "FAIL: test_5 (__main__.TestPartTwo)\n",
      "----------------------------------------------------------------------\n",
      "Traceback (most recent call last):\n",
      "  File \"<ipython-input-99-870e7f9e8be7>\", line 22, in test_5\n",
      "    self.assertEqual(Spiral(5).c, 5)\n",
      "AssertionError: 10 != 5\n",
      "\n",
      "----------------------------------------------------------------------\n",
      "Ran 6 tests in 0.009s\n",
      "\n",
      "FAILED (failures=5)\n"
     ]
    }
   ],
   "source": [
    "import unittest\n",
    "\n",
    "class TestPartTwo(unittest.TestCase):\n",
    "\n",
    "    def test_position(self):\n",
    "        for c, p in zip(range(1,11),[(0,0), (1,0), (1,1), (0,1), (-1,1), (-1,0), (-1,-1), (0,-1), (1,-1), (2,-1)]):\n",
    "            self.assertEqual(find_in_spiral(c), p)\n",
    "    \n",
    "    def test_1(self):\n",
    "        self.assertEqual(Spiral(1).c, 1)\n",
    "    \n",
    "    def test_2(self):\n",
    "        self.assertEqual(Spiral(2).c, 1)\n",
    "        \n",
    "    def test_3(self):\n",
    "        self.assertEqual(Spiral(3).c, 2)\n",
    "        \n",
    "    def test_4(self):\n",
    "        self.assertEqual(Spiral(4).c, 4)\n",
    "    \n",
    "    def test_5(self):\n",
    "        self.assertEqual(Spiral(5).c, 5)\n",
    "        \n",
    "#     def test_1(self):\n",
    "#         self.assertEqual(carry(1), 0)\n",
    "\n",
    "unittest.main(argv=['TestPartTwo'], verbosity=2, exit=False)\n",
    "\n",
    "del TestPartTwo"
   ]
  }
 ],
 "metadata": {
  "kernelspec": {
   "display_name": "Python 3",
   "language": "python",
   "name": "python3"
  },
  "language_info": {
   "codemirror_mode": {
    "name": "ipython",
    "version": 3
   },
   "file_extension": ".py",
   "mimetype": "text/x-python",
   "name": "python",
   "nbconvert_exporter": "python",
   "pygments_lexer": "ipython3",
   "version": "3.7.1"
  },
  "varInspector": {
   "cols": {
    "lenName": 16,
    "lenType": 16,
    "lenVar": 40
   },
   "kernels_config": {
    "python": {
     "delete_cmd_postfix": "",
     "delete_cmd_prefix": "del ",
     "library": "var_list.py",
     "varRefreshCmd": "print(var_dic_list())"
    },
    "r": {
     "delete_cmd_postfix": ") ",
     "delete_cmd_prefix": "rm(",
     "library": "var_list.r",
     "varRefreshCmd": "cat(var_dic_list()) "
    }
   },
   "types_to_exclude": [
    "module",
    "function",
    "builtin_function_or_method",
    "instance",
    "_Feature"
   ],
   "window_display": false
  }
 },
 "nbformat": 4,
 "nbformat_minor": 2
}
